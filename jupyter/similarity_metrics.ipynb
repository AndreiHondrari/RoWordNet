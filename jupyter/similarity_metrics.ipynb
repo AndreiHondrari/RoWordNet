{
 "cells": [
  {
   "cell_type": "markdown",
   "metadata": {},
   "source": [
    "# Similarity Metrics\n",
    "\n",
    "This demo shows how to measure the similarity between synsets using the three metrics provided: Path Similarity, Leacock-Chodorow Similarity and Wu-Palmer Similarity. \n",
    "\n",
    "Firstly, we select two synsets from the RoWordNet."
   ]
  },
  {
   "cell_type": "code",
   "execution_count": 1,
   "metadata": {},
   "outputs": [],
   "source": [
    "import rowordnet\n",
    "\n",
    "wn = rowordnet.RoWordNet()\n",
    "synset_id1 = wn.synsets(\"pisică\")[0]\n",
    "synset_id2 = wn.synsets(\"câine\")[0]"
   ]
  },
  {
   "cell_type": "markdown",
   "metadata": {},
   "source": [
    "Now we can see how similiar are the synsets according to our metrics."
   ]
  },
  {
   "cell_type": "code",
   "execution_count": 2,
   "metadata": {},
   "outputs": [
    {
     "ename": "AttributeError",
     "evalue": "'RoWordNet' object has no attribute 'path_similarity'",
     "output_type": "error",
     "traceback": [
      "\u001b[1;31m---------------------------------------------------------------------------\u001b[0m",
      "\u001b[1;31mAttributeError\u001b[0m                            Traceback (most recent call last)",
      "\u001b[1;32m<ipython-input-2-f8aee707bb11>\u001b[0m in \u001b[0;36m<module>\u001b[1;34m\u001b[0m\n\u001b[1;32m----> 1\u001b[1;33m \u001b[0mps_score\u001b[0m \u001b[1;33m=\u001b[0m \u001b[0mwn\u001b[0m\u001b[1;33m.\u001b[0m\u001b[0mpath_similarity\u001b[0m\u001b[1;33m(\u001b[0m\u001b[0msynset_id1\u001b[0m\u001b[1;33m,\u001b[0m \u001b[0msynset_id2\u001b[0m\u001b[1;33m)\u001b[0m\u001b[1;33m\u001b[0m\u001b[1;33m\u001b[0m\u001b[0m\n\u001b[0m\u001b[0;32m      2\u001b[0m \u001b[0mprint\u001b[0m\u001b[1;33m(\u001b[0m\u001b[1;34m\"Print Path Similarity score is: {:.4f}\"\u001b[0m\u001b[1;33m.\u001b[0m\u001b[0mformat\u001b[0m\u001b[1;33m(\u001b[0m\u001b[0mps_socre\u001b[0m\u001b[1;33m)\u001b[0m\u001b[1;33m)\u001b[0m\u001b[1;33m\u001b[0m\u001b[1;33m\u001b[0m\u001b[0m\n",
      "\u001b[1;31mAttributeError\u001b[0m: 'RoWordNet' object has no attribute 'path_similarity'"
     ]
    }
   ],
   "source": [
    "# Path Similarity\n",
    "ps_score = wn.path_similarity(synset_id1, synset_id2)\n",
    "print(\"Path Similarity score is: {:.4f}\".format(ps_socre))\n",
    "\n",
    "# Leacock-Chodorow Similarity\n",
    "lcs_score = wn.lcs_similarity(synset_id1, synset_id2)\n",
    "print(\"Leacock-Chodorow Similarity score is: {:.4f}\".format(lcs_socre))\n",
    "\n",
    "# Wu-Palmer Similarity\n",
    "wps_score = wn.lcs_similarity(synset_id1, synset_id2)\n",
    "print(\"Leacock-Chodorow Similarity score is: {:.4f}\".format(lcs_socre))"
   ]
  },
  {
   "cell_type": "code",
   "execution_count": null,
   "metadata": {},
   "outputs": [],
   "source": []
  }
 ],
 "metadata": {
  "kernelspec": {
   "display_name": "Python 3",
   "language": "python",
   "name": "python3"
  },
  "language_info": {
   "codemirror_mode": {
    "name": "ipython",
    "version": 3
   },
   "file_extension": ".py",
   "mimetype": "text/x-python",
   "name": "python",
   "nbconvert_exporter": "python",
   "pygments_lexer": "ipython3",
   "version": "3.6.8"
  }
 },
 "nbformat": 4,
 "nbformat_minor": 4
}
