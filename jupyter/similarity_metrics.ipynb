{
 "cells": [
  {
   "cell_type": "markdown",
   "metadata": {},
   "source": [
    "# Similarity Metrics\n",
    "\n",
    "This demo shows how to measure the similarity between synsets using the three metrics provided: Path Similarity, Leacock-Chodorow Similarity and Wu-Palmer Similarity. \n",
    "\n",
    "Firstly, we select two synsets from the RoWordNet."
   ]
  },
  {
   "cell_type": "code",
   "execution_count": 1,
   "metadata": {},
   "outputs": [],
   "source": [
    "import rowordnet\n",
    "\n",
    "wn = rowordnet.RoWordNet()\n",
    "synset_id1 = wn.synsets(\"pisică\")[0]\n",
    "synset_id2 = wn.synsets(\"câine\")[0]"
   ]
  },
  {
   "cell_type": "markdown",
   "metadata": {},
   "source": [
    "Now we can see how similiar are the synsets according to our metrics."
   ]
  },
  {
   "cell_type": "code",
   "execution_count": 3,
   "metadata": {},
   "outputs": [
    {
     "name": "stdout",
     "output_type": "stream",
     "text": [
      "Path Similarity score: 0.1250\n",
      "Leacock-Chodorow Similarity score: 2.0000\n",
      "Wu-Palmer Similarity score: 0.7692\n"
     ]
    }
   ],
   "source": [
    "# Path Similarity\n",
    "ps_score = wn.path_similarity(synset_id1, synset_id2)\n",
    "print(\"Path Similarity score: {:.4f}\".format(ps_score))\n",
    "\n",
    "# Leacock-Chodorow Similarity\n",
    "lch_score = wn.lch_similarity(synset_id1, synset_id2)\n",
    "print(\"Leacock-Chodorow Similarity score: {:.4f}\".format(lch_score))\n",
    "\n",
    "# Wu-Palmer Similarity\n",
    "wup_score = wn.wup_similarity(synset_id1, synset_id2)\n",
    "print(\"Wu-Palmer Similarity score: {:.4f}\".format(wup_score))"
   ]
  },
  {
   "cell_type": "code",
   "execution_count": null,
   "metadata": {},
   "outputs": [],
   "source": []
  }
 ],
 "metadata": {
  "kernelspec": {
   "display_name": "Python 3",
   "language": "python",
   "name": "python3"
  },
  "language_info": {
   "codemirror_mode": {
    "name": "ipython",
    "version": 3
   },
   "file_extension": ".py",
   "mimetype": "text/x-python",
   "name": "python",
   "nbconvert_exporter": "python",
   "pygments_lexer": "ipython3",
   "version": "3.6.8"
  }
 },
 "nbformat": 4,
 "nbformat_minor": 4
}
